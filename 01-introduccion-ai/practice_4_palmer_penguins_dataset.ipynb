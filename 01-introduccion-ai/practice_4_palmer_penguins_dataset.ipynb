{
  "nbformat": 4,
  "nbformat_minor": 0,
  "metadata": {
    "colab": {
      "provenance": []
    },
    "kernelspec": {
      "name": "python3",
      "display_name": "Python 3"
    },
    "language_info": {
      "name": "python"
    }
  },
  "cells": [
    {
      "cell_type": "markdown",
      "source": [
        "# Integrantes\n",
        "\n",
        "Martín Vazquez Arispe mvazquezarispe@alumnos.exa.unicen.edu.ar\n",
        "\n",
        "David Burckhardt dburckhardt@alumnos.exa.unicen.edu.ar"
      ],
      "metadata": {
        "id": "zgQpwFiJu2Hy"
      }
    },
    {
      "cell_type": "markdown",
      "source": [
        "# Enunciado"
      ],
      "metadata": {
        "id": "XYjf2ryavNWs"
      }
    },
    {
      "cell_type": "markdown",
      "source": [
        "Dados los siguientes dataset utilizados en los prácticos 2.a y 2.b:\n",
        "\n",
        "Palmer Penguins Dataset (OpenML id 43347 : https://www.openml.org/d/43347/)\n",
        "\n",
        "Spam en mensajes de texto (adjunto, versión en jsons)\n",
        "\n",
        "\n",
        "Resolver para cada dataset los siguiente puntos:\n",
        "\n",
        "\n",
        "a. Definir cuál es el objetivo de aplicar técnicas de clasificación.\n",
        "\n",
        "b. En caso de ser necesario, definir qué pre‐procesamiento se realizará a los datos. Justificar.\n",
        "\n",
        "d. Obtener dos clasificadores utilizando la librería Scikit learn. Para ello elegir 2 técnicas de clasificación, configurar los clasificadores, y ejecutar los algoritmos. Justificar las decisiones tomadas.\n",
        "\n",
        "e. Evaluar los dos clasificadores y compararlos, indicando cual de los dos recomendaría.\n",
        "\n",
        "f. Explicar un ejemplo de cómo los clasificadores obtenidos pueden ser usados en el futuro en una aplicación real."
      ],
      "metadata": {
        "id": "LjQMah2oiF-3"
      }
    },
    {
      "cell_type": "markdown",
      "source": [
        "## Consigna: A\n",
        "\n",
        "*Definir cuál es el objetivo de aplicar técnicas de clasificación*\n",
        "\n",
        "Las técnicas de clasificación tienen como objetivo asignar una etiqueta o categoría a nuevas observaciones basándose en un conjunto de datos previamente etiquetado. Estos métodos aprenden patrones o relaciones entre los datos de entrada y la variable objetivo para luego poder realizar predicciones automáticas sobre datos no vistos.\n",
        "\n",
        "El objetivo de aplicar técnicas de clasificación en este dataset es predecir la especie de pingüino (Adelie, Chinstrap o Gentoo) a partir de distintas características físicas y geográficas de los ejemplares, como el largo y ancho del pico, largo de la aleta, masa corporal, isla de procedencia y sexo.\n"
      ],
      "metadata": {
        "id": "JHTymGS7i8fy"
      }
    },
    {
      "cell_type": "markdown",
      "source": [
        "## Consigna: B\n",
        "\n",
        "*En caso de ser necesario, definir qué pre‐procesamiento se realizará a los datos. Justificar.*"
      ],
      "metadata": {
        "id": "i0IvtEXmkes_"
      }
    },
    {
      "cell_type": "markdown",
      "source": [
        "#### Pasos\n",
        "\n",
        "1. Tratamiento de datos faltantes: Se eliminaron las filas con valores faltantes en la columna \"sex\" para evitar introducir ruido en el modelo, ya que representaban una pequeña porción del total y no comprometían la cantidad de datos.\n",
        "\n",
        "2. Se separo del dataset la columna *species* que va a ser la categoria a predecir por el modelo\n",
        "\n",
        "2. Se aplicó OneHotEncoder a las columna categórica *island* y un OrdinalEncoder a la columna *sex* para transformarlas en valores numéricos compatibles con los clasificadores.\n",
        "\n",
        "3. Se normalizaron las variables numéricas para que todas tengan la misma escala, lo cual es esencial para modelos sensibles a distancias como KNN y SVM, y mejora la estabilidad general del entrenamiento."
      ],
      "metadata": {
        "id": "oYnLnI7ftjeE"
      }
    },
    {
      "cell_type": "code",
      "source": [
        "!pip install openml"
      ],
      "metadata": {
        "id": "UOw4Um2KawSD",
        "colab": {
          "base_uri": "https://localhost:8080/"
        },
        "outputId": "335e2ccb-535a-49d7-b111-5e91156c660f"
      },
      "execution_count": null,
      "outputs": [
        {
          "output_type": "stream",
          "name": "stdout",
          "text": [
            "Collecting openml\n",
            "  Downloading openml-0.15.1-py3-none-any.whl.metadata (10 kB)\n",
            "Collecting liac-arff>=2.4.0 (from openml)\n",
            "  Downloading liac-arff-2.5.0.tar.gz (13 kB)\n",
            "  Preparing metadata (setup.py) ... \u001b[?25l\u001b[?25hdone\n",
            "Collecting xmltodict (from openml)\n",
            "  Downloading xmltodict-0.14.2-py2.py3-none-any.whl.metadata (8.0 kB)\n",
            "Requirement already satisfied: requests in /usr/local/lib/python3.11/dist-packages (from openml) (2.32.3)\n",
            "Requirement already satisfied: scikit-learn>=0.18 in /usr/local/lib/python3.11/dist-packages (from openml) (1.6.1)\n",
            "Requirement already satisfied: python-dateutil in /usr/local/lib/python3.11/dist-packages (from openml) (2.9.0.post0)\n",
            "Requirement already satisfied: pandas>=1.0.0 in /usr/local/lib/python3.11/dist-packages (from openml) (2.2.2)\n",
            "Requirement already satisfied: scipy>=0.13.3 in /usr/local/lib/python3.11/dist-packages (from openml) (1.15.3)\n",
            "Requirement already satisfied: numpy>=1.6.2 in /usr/local/lib/python3.11/dist-packages (from openml) (2.0.2)\n",
            "Collecting minio (from openml)\n",
            "  Downloading minio-7.2.15-py3-none-any.whl.metadata (6.7 kB)\n",
            "Requirement already satisfied: pyarrow in /usr/local/lib/python3.11/dist-packages (from openml) (18.1.0)\n",
            "Requirement already satisfied: tqdm in /usr/local/lib/python3.11/dist-packages (from openml) (4.67.1)\n",
            "Requirement already satisfied: packaging in /usr/local/lib/python3.11/dist-packages (from openml) (24.2)\n",
            "Requirement already satisfied: pytz>=2020.1 in /usr/local/lib/python3.11/dist-packages (from pandas>=1.0.0->openml) (2025.2)\n",
            "Requirement already satisfied: tzdata>=2022.7 in /usr/local/lib/python3.11/dist-packages (from pandas>=1.0.0->openml) (2025.2)\n",
            "Requirement already satisfied: six>=1.5 in /usr/local/lib/python3.11/dist-packages (from python-dateutil->openml) (1.17.0)\n",
            "Requirement already satisfied: joblib>=1.2.0 in /usr/local/lib/python3.11/dist-packages (from scikit-learn>=0.18->openml) (1.5.0)\n",
            "Requirement already satisfied: threadpoolctl>=3.1.0 in /usr/local/lib/python3.11/dist-packages (from scikit-learn>=0.18->openml) (3.6.0)\n",
            "Requirement already satisfied: certifi in /usr/local/lib/python3.11/dist-packages (from minio->openml) (2025.4.26)\n",
            "Requirement already satisfied: urllib3 in /usr/local/lib/python3.11/dist-packages (from minio->openml) (2.4.0)\n",
            "Requirement already satisfied: argon2-cffi in /usr/local/lib/python3.11/dist-packages (from minio->openml) (23.1.0)\n",
            "Collecting pycryptodome (from minio->openml)\n",
            "  Downloading pycryptodome-3.23.0-cp37-abi3-manylinux_2_17_x86_64.manylinux2014_x86_64.whl.metadata (3.4 kB)\n",
            "Requirement already satisfied: typing-extensions in /usr/local/lib/python3.11/dist-packages (from minio->openml) (4.13.2)\n",
            "Requirement already satisfied: charset-normalizer<4,>=2 in /usr/local/lib/python3.11/dist-packages (from requests->openml) (3.4.2)\n",
            "Requirement already satisfied: idna<4,>=2.5 in /usr/local/lib/python3.11/dist-packages (from requests->openml) (3.10)\n",
            "Requirement already satisfied: argon2-cffi-bindings in /usr/local/lib/python3.11/dist-packages (from argon2-cffi->minio->openml) (21.2.0)\n",
            "Requirement already satisfied: cffi>=1.0.1 in /usr/local/lib/python3.11/dist-packages (from argon2-cffi-bindings->argon2-cffi->minio->openml) (1.17.1)\n",
            "Requirement already satisfied: pycparser in /usr/local/lib/python3.11/dist-packages (from cffi>=1.0.1->argon2-cffi-bindings->argon2-cffi->minio->openml) (2.22)\n",
            "Downloading openml-0.15.1-py3-none-any.whl (160 kB)\n",
            "\u001b[2K   \u001b[90m━━━━━━━━━━━━━━━━━━━━━━━━━━━━━━━━━━━━━━━━\u001b[0m \u001b[32m160.4/160.4 kB\u001b[0m \u001b[31m6.5 MB/s\u001b[0m eta \u001b[36m0:00:00\u001b[0m\n",
            "\u001b[?25hDownloading minio-7.2.15-py3-none-any.whl (95 kB)\n",
            "\u001b[2K   \u001b[90m━━━━━━━━━━━━━━━━━━━━━━━━━━━━━━━━━━━━━━━━\u001b[0m \u001b[32m95.1/95.1 kB\u001b[0m \u001b[31m8.9 MB/s\u001b[0m eta \u001b[36m0:00:00\u001b[0m\n",
            "\u001b[?25hDownloading xmltodict-0.14.2-py2.py3-none-any.whl (10.0 kB)\n",
            "Downloading pycryptodome-3.23.0-cp37-abi3-manylinux_2_17_x86_64.manylinux2014_x86_64.whl (2.3 MB)\n",
            "\u001b[2K   \u001b[90m━━━━━━━━━━━━━━━━━━━━━━━━━━━━━━━━━━━━━━━━\u001b[0m \u001b[32m2.3/2.3 MB\u001b[0m \u001b[31m59.3 MB/s\u001b[0m eta \u001b[36m0:00:00\u001b[0m\n",
            "\u001b[?25hBuilding wheels for collected packages: liac-arff\n",
            "  Building wheel for liac-arff (setup.py) ... \u001b[?25l\u001b[?25hdone\n",
            "  Created wheel for liac-arff: filename=liac_arff-2.5.0-py3-none-any.whl size=11717 sha256=e340684ee170f337b1dfa69e351ac6d2118f0f4b37fb9b3f4c7209acc7883f18\n",
            "  Stored in directory: /root/.cache/pip/wheels/00/23/31/5e562fce1f95aabe57f2a7320d07433ba1cd152bcde2f6a002\n",
            "Successfully built liac-arff\n",
            "Installing collected packages: xmltodict, pycryptodome, liac-arff, minio, openml\n",
            "Successfully installed liac-arff-2.5.0 minio-7.2.15 openml-0.15.1 pycryptodome-3.23.0 xmltodict-0.14.2\n"
          ]
        }
      ]
    },
    {
      "cell_type": "code",
      "execution_count": null,
      "metadata": {
        "id": "bTOkSdW2hOZs"
      },
      "outputs": [],
      "source": [
        "from sklearn.datasets import fetch_openml\n",
        "import openml\n",
        "\n",
        "# Lee el dataset desde OpenMl utilizando la funcionalidad de SKLearn\n",
        "data = openml.datasets.get_dataset(43347)\n",
        "X, y, categorical_indicator, attribute_names = data.get_data(\n",
        "    dataset_format='dataframe',\n",
        "    target=data.default_target_attribute\n",
        ")\n",
        "df = X.copy()"
      ]
    },
    {
      "cell_type": "code",
      "source": [
        "from sklearn.pipeline import Pipeline\n",
        "from sklearn.compose import ColumnTransformer\n",
        "from sklearn.preprocessing import OrdinalEncoder, StandardScaler, OneHotEncoder\n",
        "from sklearn.impute import SimpleImputer\n",
        "import pandas as pd\n",
        "\n",
        "island_col = ['island']\n",
        "sex_col = ['sex']\n",
        "num_cols = ['bill_length_mm', 'bill_depth_mm', 'flipper_length_mm', 'body_mass_g']\n",
        "\n",
        "island_transformer = Pipeline([\n",
        "    (\"imputer\", SimpleImputer(strategy=\"most_frequent\")),\n",
        "    (\"encoder\", OneHotEncoder(handle_unknown=\"ignore\"))\n",
        "])\n",
        "\n",
        "sex_transformer = Pipeline([\n",
        "    (\"imputer\", SimpleImputer(strategy=\"most_frequent\")),\n",
        "    (\"encoder\", OrdinalEncoder())\n",
        "])\n",
        "\n",
        "num_transformer = Pipeline([\n",
        "    (\"imputer\", SimpleImputer(strategy=\"mean\")),\n",
        "    (\"scaler\", StandardScaler())\n",
        "])\n",
        "\n",
        "preprocessing_pipeline = Pipeline([\n",
        "    (\"preprocessor\", ColumnTransformer([\n",
        "        (\"num\", num_transformer, num_cols),\n",
        "        (\"island\", island_transformer, island_col),\n",
        "        (\"sex\", sex_transformer, sex_col),\n",
        "    ]))\n",
        "])\n",
        "\n",
        "df = df.dropna(subset=['sex'])\n",
        "features = df.drop(columns=['species'])\n",
        "labels = df['species']"
      ],
      "metadata": {
        "id": "xLI5l0FJmwPG"
      },
      "execution_count": null,
      "outputs": []
    },
    {
      "cell_type": "code",
      "source": [
        "from sklearn.preprocessing import LabelEncoder\n",
        "\n",
        "# Codificar y\n",
        "label_encoder = LabelEncoder()\n",
        "labels_encoded = label_encoder.fit_transform(labels)\n",
        "labels_encoded"
      ],
      "metadata": {
        "colab": {
          "base_uri": "https://localhost:8080/"
        },
        "id": "wKvRsvtOcPIA",
        "outputId": "67611dad-2840-4c91-fc8a-e06ae0de6dc5"
      },
      "execution_count": null,
      "outputs": [
        {
          "output_type": "execute_result",
          "data": {
            "text/plain": [
              "array([0, 0, 0, 0, 0, 0, 0, 0, 0, 0, 0, 0, 0, 0, 0, 0, 0, 0, 0, 0, 0, 0,\n",
              "       0, 0, 0, 0, 0, 0, 0, 0, 0, 0, 0, 0, 0, 0, 0, 0, 0, 0, 0, 0, 0, 0,\n",
              "       0, 0, 0, 0, 0, 0, 0, 0, 0, 0, 0, 0, 0, 0, 0, 0, 0, 0, 0, 0, 0, 0,\n",
              "       0, 0, 0, 0, 0, 0, 0, 0, 0, 0, 0, 0, 0, 0, 0, 0, 0, 0, 0, 0, 0, 0,\n",
              "       0, 0, 0, 0, 0, 0, 0, 0, 0, 0, 0, 0, 0, 0, 0, 0, 0, 0, 0, 0, 0, 0,\n",
              "       0, 0, 0, 0, 0, 0, 0, 0, 0, 0, 0, 0, 0, 0, 0, 0, 0, 0, 0, 0, 0, 0,\n",
              "       0, 0, 0, 0, 0, 0, 0, 0, 0, 0, 0, 0, 0, 0, 2, 2, 2, 2, 2, 2, 2, 2,\n",
              "       2, 2, 2, 2, 2, 2, 2, 2, 2, 2, 2, 2, 2, 2, 2, 2, 2, 2, 2, 2, 2, 2,\n",
              "       2, 2, 2, 2, 2, 2, 2, 2, 2, 2, 2, 2, 2, 2, 2, 2, 2, 2, 2, 2, 2, 2,\n",
              "       2, 2, 2, 2, 2, 2, 2, 2, 2, 2, 2, 2, 2, 2, 2, 2, 2, 2, 2, 2, 2, 2,\n",
              "       2, 2, 2, 2, 2, 2, 2, 2, 2, 2, 2, 2, 2, 2, 2, 2, 2, 2, 2, 2, 2, 2,\n",
              "       2, 2, 2, 2, 2, 2, 2, 2, 2, 2, 2, 2, 2, 2, 2, 2, 2, 2, 2, 2, 2, 2,\n",
              "       2, 1, 1, 1, 1, 1, 1, 1, 1, 1, 1, 1, 1, 1, 1, 1, 1, 1, 1, 1, 1, 1,\n",
              "       1, 1, 1, 1, 1, 1, 1, 1, 1, 1, 1, 1, 1, 1, 1, 1, 1, 1, 1, 1, 1, 1,\n",
              "       1, 1, 1, 1, 1, 1, 1, 1, 1, 1, 1, 1, 1, 1, 1, 1, 1, 1, 1, 1, 1, 1,\n",
              "       1, 1, 1])"
            ]
          },
          "metadata": {},
          "execution_count": 7
        }
      ]
    },
    {
      "cell_type": "markdown",
      "source": [
        "## Consigna: D\n",
        "*Obtener dos clasificadores utilizando la librería Scikit learn. Para ello elegir 2 técnicas de clasificación, configurar los clasificadores, y ejecutar los algoritmos. Justificar las decisiones tomadas.*"
      ],
      "metadata": {
        "id": "G_rdGOh8p1mJ"
      }
    },
    {
      "cell_type": "markdown",
      "source": [
        "Se utilizó una partición estratificada para asegurar que la proporción de cada clase en el conjunto de entrenamiento y test sea representativa del dataset original. Esto es especialmente importante en problemas de clasificación para evitar sesgos y garantizar que el modelo aprenda y se evalúe correctamente sobre todas las clases presentes, manteniendo la distribución balanceada de especies en ambos subconjuntos.\n",
        "Se eligió un test_size=0.2 para reservar el 20% del dataset como conjunto de prueba, lo cual es adecuado cuando se dispone de una cantidad limitada de muestras."
      ],
      "metadata": {
        "id": "PgxgdE5YvSVe"
      }
    },
    {
      "cell_type": "code",
      "source": [
        "from sklearn.model_selection import train_test_split\n",
        "\n",
        "X_train, X_test, y_train, y_test = train_test_split(features, labels, test_size=0.2, stratify=labels, random_state=42)"
      ],
      "metadata": {
        "id": "6RxqaOOru5gU"
      },
      "execution_count": null,
      "outputs": []
    },
    {
      "cell_type": "markdown",
      "source": [
        "Para evaluar el rendimiento de los cuatro clasificadores, se aplicó validación cruzada con K-Fold sobre el conjunto de entrenamiento, utilizando un k igual a 5 que da un buen equilibrio entre precisión y eficiencia computacional. En cada fold, se entrenó el modelo y se calcularon métricas como accuracy, precision, recall y F1-score. Luego, se obtuvo el promedio de estas métricas para cada clasificador, lo que permite una evaluación completa del rendimiento en conjuntos balanceados o desbalanceados. A partir de estos promedios, se identificaron los dos modelos con mejor rendimiento general para seleccionarlos como los más adecuados para el problema."
      ],
      "metadata": {
        "id": "7hMMd0oDuTQs"
      }
    },
    {
      "cell_type": "markdown",
      "source": [
        "#### Funciones auxiliares\n",
        "\n",
        "**apply_cross_validation:** Aplica validación cruzada K-Fold al pipeline y devuelve el promedio de cuatro métricas de evaluación.\n",
        "\n",
        "**print_metrics:** Imprime en consola los valores promedio de accuracy, precision, recall y F1-score obtenidos tras la validación."
      ],
      "metadata": {
        "id": "S4eSVVurUmej"
      }
    },
    {
      "cell_type": "code",
      "source": [
        "from sklearn.model_selection import cross_validate, KFold\n",
        "import numpy as np\n",
        "\n",
        "def apply_cross_validation(pipeline):\n",
        "  # Se define el KFold\n",
        "  kf = KFold(n_splits=5, shuffle=True, random_state=42)\n",
        "\n",
        "  # Validación cruzada y definición de las metricas a obtener\n",
        "  scoring = ['accuracy', 'precision_macro', 'recall_macro', 'f1_macro']\n",
        "  scores_dt = cross_validate(pipeline, X_train, y_train, cv=kf, scoring=scoring)\n",
        "\n",
        "  return (\n",
        "      np.mean(scores_dt['test_accuracy']),\n",
        "      np.mean(scores_dt['test_precision_macro']),\n",
        "      np.mean(scores_dt['test_recall_macro']),\n",
        "      np.mean(scores_dt['test_f1_macro'])\n",
        "  )\n",
        "\n",
        "def print_metrics(accuracy, precision, recall, f1_score):\n",
        "  print(f\"Accuracy promedio: {accuracy:.4f}\")\n",
        "  print(f\"Precision promedio: {precision:.4f}\")\n",
        "  print(f\"Recall promedio: {recall:.4f}\")\n",
        "  print(f\"F1-score promedio: {f1_score:.4f}\")"
      ],
      "metadata": {
        "id": "BQEX_wySJguR"
      },
      "execution_count": null,
      "outputs": []
    },
    {
      "cell_type": "markdown",
      "source": [
        "#### Arbol de Desición\n",
        "\n",
        "El Árbol de Decisión se eligió por ser un modelo sencillo e interpretable, ideal como primera aproximación al problema de clasificación. Permite entender cómo cada variable contribuye a la predicción mediante reglas claras y divisiones sucesivas. Además, no requiere escalado, maneja variables categóricas y numéricas ya codificadas, y puede capturar relaciones no lineales, lo que lo hace útil para evaluar tanto la estructura del dataset como la efectividad del preprocesamiento."
      ],
      "metadata": {
        "id": "0hO_TM4svY3Q"
      }
    },
    {
      "cell_type": "code",
      "source": [
        "from sklearn.tree import DecisionTreeClassifier\n",
        "\n",
        "pipeline_dt = Pipeline([\n",
        "    (\"preprocessing\", preprocessing_pipeline),\n",
        "    (\"classifier\", DecisionTreeClassifier(random_state=42))\n",
        "])\n",
        "\n",
        "accuracy_mean_dt, precision_mean_dt, recall_mean_dt, f1_mean_dt = apply_cross_validation(pipeline_dt)\n",
        "\n",
        "print_metrics(accuracy_mean_dt, precision_mean_dt, recall_mean_dt, f1_mean_dt)"
      ],
      "metadata": {
        "id": "1I3RiaBLp1Ev",
        "colab": {
          "base_uri": "https://localhost:8080/"
        },
        "outputId": "481c9802-c627-4721-f7c4-c17acd15902e"
      },
      "execution_count": null,
      "outputs": [
        {
          "output_type": "stream",
          "name": "stdout",
          "text": [
            "Accuracy promedio: 0.9510\n",
            "Precision promedio: 0.9394\n",
            "Recall promedio: 0.9549\n",
            "F1-score promedio: 0.9441\n"
          ]
        }
      ]
    },
    {
      "cell_type": "markdown",
      "source": [
        "#### Naive Bayes\n",
        "\n",
        "Naive Bayes se eligió por su simplicidad y rapidez, ideal para probar modelos base en datasets pequeños como este. Aunque asume independencia entre variables algo que no siempre se cumple, puede dar buenos resultados cuando las clases están bien diferenciadas. Es útil como punto de comparación frente a modelos más complejos."
      ],
      "metadata": {
        "id": "LWeMpqWnlQdZ"
      }
    },
    {
      "cell_type": "code",
      "source": [
        "from sklearn.naive_bayes import GaussianNB\n",
        "\n",
        "pipeline_nb = Pipeline([\n",
        "    (\"preprocessing\", preprocessing_pipeline),\n",
        "    (\"classifier\", GaussianNB())\n",
        "])\n",
        "\n",
        "accuracy_mean_nb, precision_mean_nb, recall_mean_nb, f1_mean_nb = apply_cross_validation(pipeline_nb)\n",
        "\n",
        "print_metrics(accuracy_mean_nb, precision_mean_nb, recall_mean_nb, f1_mean_nb)"
      ],
      "metadata": {
        "id": "gtfCaI5GrR3Z",
        "colab": {
          "base_uri": "https://localhost:8080/"
        },
        "outputId": "4a15484b-d1ad-49d6-b36f-f459ae57f000"
      },
      "execution_count": null,
      "outputs": [
        {
          "output_type": "stream",
          "name": "stdout",
          "text": [
            "Accuracy promedio: 0.7185\n",
            "Precision promedio: 0.7667\n",
            "Recall promedio: 0.7859\n",
            "F1-score promedio: 0.6903\n"
          ]
        }
      ]
    },
    {
      "cell_type": "markdown",
      "source": [
        "#### SVM\n",
        "\n",
        "SVM es un clasificador robusto y eficaz para datasets con pocas dimensiones como es el caso. Aprovecha las variables normalizadas al basarse en distancias, funciona bien en clasificación multiclase y, mediante su margen máximo, reduce el riesgo de sobreajuste.\n",
        "\n",
        "Margen: 1.0 --> Se está utilizando un valor moderado, ni demasiado flexible ni demasiado estricto.\n",
        "\n",
        "Kernel: Linear --> El dataset tiene solo 6 características, lo cual es ideal para un modelo lineal."
      ],
      "metadata": {
        "id": "WT0E7mgThA76"
      }
    },
    {
      "cell_type": "code",
      "source": [
        "from sklearn.svm import SVC\n",
        "\n",
        "pipeline_svm = Pipeline([\n",
        "    (\"preprocessing\", preprocessing_pipeline),\n",
        "    (\"classifier\", SVC(kernel=\"linear\", C=1.0, random_state=42))\n",
        "])\n",
        "\n",
        "accuracy_mean_svm, precision_mean_svm, recall_mean_svm, f1_mean_svm = apply_cross_validation(pipeline_svm)\n",
        "\n",
        "print_metrics(accuracy_mean_svm, precision_mean_svm, recall_mean_svm, f1_mean_svm)"
      ],
      "metadata": {
        "id": "VWkJmnpKs600",
        "colab": {
          "base_uri": "https://localhost:8080/"
        },
        "outputId": "c0b18194-b851-4818-cd1c-13bfbfb8f4e3"
      },
      "execution_count": null,
      "outputs": [
        {
          "output_type": "stream",
          "name": "stdout",
          "text": [
            "Accuracy promedio: 0.9925\n",
            "Precision promedio: 0.9930\n",
            "Recall promedio: 0.9917\n",
            "F1-score promedio: 0.9919\n"
          ]
        }
      ]
    },
    {
      "cell_type": "markdown",
      "source": [
        "#### KNN\n",
        "\n",
        "KNN es una buena elección para este dataset porque funciona bien con pocos datos y no requiere entrenamiento complejo. Como las variables numéricas están normalizadas, las distancias entre muestras son representativas, lo que mejora la precisión del modelo. Además, al haber pocas muestras, la predicción es rápida y eficiente, sin volverse costosa como en datasets grandes."
      ],
      "metadata": {
        "id": "bCwmC6p6lmrb"
      }
    },
    {
      "cell_type": "code",
      "source": [
        "from sklearn.neighbors import KNeighborsClassifier\n",
        "\n",
        "pipeline_knn = Pipeline([\n",
        "    (\"preprocessing\", preprocessing_pipeline),\n",
        "    (\"classifier\", KNeighborsClassifier(n_neighbors=5))\n",
        "])\n",
        "\n",
        "accuracy_mean_knn, precision_mean_knn, recall_mean_knn, f1_mean_knn = apply_cross_validation(pipeline_knn)\n",
        "\n",
        "print_metrics(accuracy_mean_knn, precision_mean_knn, recall_mean_knn, f1_mean_knn)"
      ],
      "metadata": {
        "colab": {
          "base_uri": "https://localhost:8080/"
        },
        "id": "WM6KVg2-tvNP",
        "outputId": "88b229b6-440c-42e8-906c-7d8a70876d0b"
      },
      "execution_count": null,
      "outputs": [
        {
          "output_type": "stream",
          "name": "stdout",
          "text": [
            "Accuracy promedio: 0.9962\n",
            "Precision promedio: 0.9963\n",
            "Recall promedio: 0.9958\n",
            "F1-score promedio: 0.9959\n"
          ]
        }
      ]
    },
    {
      "cell_type": "markdown",
      "source": [
        "#### Gráficos Comparativos"
      ],
      "metadata": {
        "id": "IE82lpZ03AJb"
      }
    },
    {
      "cell_type": "code",
      "source": [
        "import matplotlib.pyplot as plt\n",
        "\n",
        "# Modelos\n",
        "modelos = ['Arbol de Decisión', 'Naive Bayes', 'SVM', 'KNN']\n",
        "\n",
        "# Métricas\n",
        "accuracy = [accuracy_mean_dt, accuracy_mean_nb, accuracy_mean_svm, accuracy_mean_knn]\n",
        "precision = [precision_mean_dt, precision_mean_nb, precision_mean_svm, precision_mean_knn]\n",
        "recall = [recall_mean_dt, recall_mean_nb, recall_mean_svm, recall_mean_knn]\n",
        "f1_score = [f1_mean_dt, f1_mean_nb, f1_mean_svm, f1_mean_knn]\n",
        "\n",
        "# Posiciones\n",
        "x = np.arange(len(modelos))\n",
        "width = 0.2  # ancho de las barras\n",
        "\n",
        "fig, ax = plt.subplots()\n",
        "ax.bar(x - 1.5*width, accuracy, width, label='Accuracy')\n",
        "ax.bar(x - 0.5*width, precision, width, label='Precision')\n",
        "ax.bar(x + 0.5*width, recall, width, label='Recall')\n",
        "ax.bar(x + 1.5*width, f1_score, width, label='F1 Score')\n",
        "\n",
        "ax.set_ylabel('Valor')\n",
        "ax.set_title('Métricas por Algoritmo de Clasificación')\n",
        "ax.set_xticks(x)\n",
        "ax.set_xticklabels(modelos)\n",
        "ax.legend()\n",
        "\n",
        "plt.ylim(0.65, 1)\n",
        "plt.grid(axis='y', linestyle='--', alpha=0.7)\n",
        "plt.tight_layout()\n",
        "plt.show()"
      ],
      "metadata": {
        "id": "dEfFQZd-1C-S",
        "colab": {
          "base_uri": "https://localhost:8080/",
          "height": 487
        },
        "outputId": "92e0ada9-a6e8-4f2d-b61e-465e391197a4"
      },
      "execution_count": null,
      "outputs": [
        {
          "output_type": "display_data",
          "data": {
            "text/plain": [
              "<Figure size 640x480 with 1 Axes>"
            ],
            "image/png": "[encoded data removed]"
          },
          "metadata": {}
        }
      ]
    },
    {
      "cell_type": "markdown",
      "source": [
        "### Conclusiones\n",
        "\n",
        "KNN mostró el mejor rendimiento general en todas las métricas, indicando una clasificación casi perfecta en todos los folds. Esto sugiere que el modelo se adapta muy bien a la estructura del dataset, posiblemente gracias a la normalización de las variables numéricas.\n",
        "\n",
        "SVM también tuvo un rendimiento excelente, muy cercano al de KNN. Su capacidad para encontrar márgenes óptimos en datos bien preprocesados lo hace una opción muy sólida, especialmente con pocas dimensiones como en este caso."
      ],
      "metadata": {
        "id": "rFbKyvxmtAig"
      }
    },
    {
      "cell_type": "markdown",
      "source": [
        "## Consigna E\n",
        "\n",
        "*Evaluar los dos clasificadores y compararlos, indicando cual de los dos recomendaría.*"
      ],
      "metadata": {
        "id": "5Wa96Xh5uPV7"
      }
    },
    {
      "cell_type": "markdown",
      "source": [
        "Para la evaluación final, se entrenaron los dos clasificadores seleccionados —KNN y SVM— utilizando todo el conjunto de entrenamiento disponible. Luego, se evaluaron sus métricas sobre el conjunto de prueba para obtener una estimación realista de su desempeño en datos nuevos. Esta comparación directa permite identificar cuál de los dos modelos ofrece un mejor equilibrio entre precisión, sensibilidad y generalización, y así recomendar el clasificador más adecuado para su uso en aplicaciones reales."
      ],
      "metadata": {
        "id": "l7iGJmPzy9Ig"
      }
    },
    {
      "cell_type": "code",
      "source": [
        "from sklearn.metrics import accuracy_score, precision_score, recall_score, f1_score\n",
        "\n",
        "# Entrenar modelos finales con todo el set de entrenamiento\n",
        "pipeline_svm.fit(X_train, y_train)\n",
        "pipeline_knn.fit(X_train, y_train)\n",
        "\n",
        "# Evaluar en el set de prueba\n",
        "y_pred_svm = pipeline_svm.predict(X_test)\n",
        "y_pred_knn = pipeline_knn.predict(X_test)\n",
        "\n",
        "# Métricas\n",
        "def obtener_metricas(y_true, y_pred):\n",
        "    return {\n",
        "        \"accuracy\": accuracy_score(y_true, y_pred),\n",
        "        \"precision_macro\": precision_score(y_true, y_pred, average='macro'),\n",
        "        \"recall_macro\": recall_score(y_true, y_pred, average='macro'),\n",
        "        \"f1_macro\": f1_score(y_true, y_pred, average='macro')\n",
        "    }\n",
        "\n",
        "metricas_svm = obtener_metricas(y_test, y_pred_svm)\n",
        "metricas_knn = obtener_metricas(y_test, y_pred_knn)\n",
        "\n",
        "print(\"Métricas para SVM:\")\n",
        "print(metricas_svm)\n",
        "\n",
        "print(\"\\nMétricas para KNN:\")\n",
        "print(metricas_knn)"
      ],
      "metadata": {
        "colab": {
          "base_uri": "https://localhost:8080/"
        },
        "id": "4qWKy7WFs9FT",
        "outputId": "556df440-980c-48f1-d990-e0cda3c19d7b"
      },
      "execution_count": null,
      "outputs": [
        {
          "output_type": "stream",
          "name": "stdout",
          "text": [
            "Métricas para SVM:\n",
            "{'accuracy': 1.0, 'precision_macro': 1.0, 'recall_macro': 1.0, 'f1_macro': 1.0}\n",
            "\n",
            "Métricas para KNN:\n",
            "{'accuracy': 0.9850746268656716, 'precision_macro': 0.9777777777777779, 'recall_macro': 0.9885057471264368, 'f1_macro': 0.9826577939100626}\n"
          ]
        }
      ]
    },
    {
      "cell_type": "markdown",
      "source": [
        "### Conclusiones\n",
        "\n",
        "Luego de entrenar los dos clasificadores seleccionados (KNN y SVM) sobre el conjunto de entrenamiento completo, se evaluaron en el conjunto de prueba. Ambos modelos mostraron un rendimiento excelente, pero el SVM alcanzó un desempeño perfecto, con accuracy, precision, recall y F1-score iguales a 1.0, lo que indica que clasificó correctamente todos los ejemplos de prueba. Por su parte, KNN también obtuvo métricas muy altas, con un accuracy del 98.5%, y valores ligeramente inferiores en las demás métricas.\n",
        "\n",
        "#### Clasificador elegido: SVM\n",
        "\n",
        "Si bien ambos son adecuados, se recomienda el uso de SVM por su mejor capacidad de generalización en este caso, mostrando máxima precisión y robustez en datos no vistos."
      ],
      "metadata": {
        "id": "w4QLimYF1mvi"
      }
    },
    {
      "cell_type": "markdown",
      "source": [
        "## Consigna F\n",
        "\n",
        "*Explicar un ejemplo de cómo los clasificadores obtenidos pueden ser usados en el futuro en una aplicación real.*"
      ],
      "metadata": {
        "id": "2Ziy_5zBshsc"
      }
    },
    {
      "cell_type": "markdown",
      "source": [
        "Un posible uso real de los clasificadores obtenidos sería en una aplicación de monitoreo de fauna en reservas naturales o estaciones científicas. Por ejemplo, un sistema podría recibir mediciones físicas de pingüinos (como longitud del pico, masa corporal, etc.) tomadas en el campo por biólogos, y utilizar el modelo entrenado para predecir automáticamente la especie. Esto agilizaría el trabajo de clasificación, reduciría errores humanos y permitiría registrar información de forma rápida y sistemática, incluso por personal no experto en taxonomía."
      ],
      "metadata": {
        "id": "tQ4VljaOsyTk"
      }
    }
  ]
}