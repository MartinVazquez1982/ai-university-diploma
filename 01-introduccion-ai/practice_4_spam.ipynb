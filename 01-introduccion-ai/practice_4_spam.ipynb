{
  "cells": [
    {
      "cell_type": "markdown",
      "metadata": {
        "id": "ZJ5-f24gEKhP"
      },
      "source": [
        "# Integrantes\n",
        "\n",
        "Martín Vazquez Arispe mvazquezarispe@alumnos.exa.unicen.edu.ar\n",
        "\n",
        "David Burckhardt dburckhardt@alumnos.exa.unicen.edu.ar"
      ]
    },
    {
      "cell_type": "markdown",
      "metadata": {
        "id": "M76_ghZyEOSO"
      },
      "source": [
        "# Enunciado\n",
        "\n",
        "Dados los siguientes dataset utilizados en los prácticos 2.a y 2.b:\n",
        "\n",
        "Palmer Penguins Dataset (OpenML id 43347 : https://www.openml.org/d/43347/)\n",
        "\n",
        "Spam en mensajes de texto (adjunto, versión en jsons)\n",
        "\n",
        "\n",
        "Resolver para cada dataset los siguiente puntos:\n",
        "\n",
        "\n",
        "a. Definir cuál es el objetivo de aplicar técnicas de clasificación.\n",
        "\n",
        "b. En caso de ser necesario, definir qué pre‐procesamiento se realizará a los datos. Justificar.\n",
        "\n",
        "d. Obtener dos clasificadores utilizando la librería Scikit learn. Para ello elegir 2 técnicas de clasificación, configurar los clasificadores, y ejecutar los algoritmos. Justificar las decisiones tomadas.\n",
        "\n",
        "e. Evaluar los dos clasificadores y compararlos, indicando cual de los dos recomendaría.\n",
        "\n",
        "f. Explicar un ejemplo de cómo los clasificadores obtenidos pueden ser usados en el futuro en una aplicación real."
      ]
    },
    {
      "cell_type": "markdown",
      "metadata": {
        "id": "YdRDAnZ0Kp65"
      },
      "source": [
        "## Consigna: A\n",
        "\n",
        "*Definir cuál es el objetivo de aplicar técnicas de clasificación*\n",
        "\n",
        "Las técnicas de clasificación tienen como objetivo asignar una etiqueta o categoría a nuevas observaciones basándose en un conjunto de datos previamente etiquetado. Estos métodos aprenden patrones o relaciones entre los datos de entrada y la variable objetivo para luego poder realizar predicciones automáticas sobre datos no vistos.\n",
        "\n",
        "El objetivo de aplicar técnicas de clasificación en este dataset es predecir si un texto es spam o no."
      ]
    },
    {
      "cell_type": "markdown",
      "metadata": {
        "id": "etYDYLogM5nO"
      },
      "source": [
        "## Consigna: B\n",
        "\n",
        "*En caso de ser necesario, definir qué pre‐procesamiento se realizará a los datos. Justificar.*"
      ]
    },
    {
      "cell_type": "markdown",
      "metadata": {
        "id": "Nkk4rYmxz2wB"
      },
      "source": [
        "Monta Google Drive, copia el archivo ZIP con los datos al entorno local y lo descomprime."
      ]
    },
    {
      "cell_type": "code",
      "execution_count": null,
      "metadata": {
        "colab": {
          "base_uri": "https://localhost:8080/"
        },
        "id": "SgsM7mXoZnnj",
        "outputId": "6540d5b6-8ae3-4aed-ecda-77448ce41a8a"
      },
      "outputs": [
        {
          "name": "stdout",
          "output_type": "stream",
          "text": [
            "Mounted at /content/gdrive\n"
          ]
        }
      ],
      "source": [
        "from google.colab import drive\n",
        "import pandas as pd\n",
        "# Montamos la unidad de Google Drive (solicitará autorización)\n",
        "drive.mount('/content/gdrive', force_remount=True)\n",
        "\n",
        "# Copia el zip al entorno de ejecución y los descomprime\n",
        "zip_path = \"/content/gdrive/My Drive/Diplomatura IA/Modulo 1/jsons-spam.zip\"\n",
        "!cp \"{zip_path}\" .\n",
        "!unzip -q jsons-spam.zip"
      ]
    },
    {
      "cell_type": "markdown",
      "metadata": {
        "id": "AMgp4-h-0FMK"
      },
      "source": [
        "Busca los archivos JSON para extraer textos y etiquetas, y los guarda en listas separadas para análisis de mensajes y clasificación."
      ]
    },
    {
      "cell_type": "code",
      "execution_count": null,
      "metadata": {
        "colab": {
          "base_uri": "https://localhost:8080/"
        },
        "id": "881-LuHXKShl",
        "outputId": "817d8206-6c4d-4567-a15b-dcb6df932c1d"
      },
      "outputs": [
        {
          "name": "stdout",
          "output_type": "stream",
          "text": [
            "Cantidad de corpus: 5572\n",
            "Cantidad de labels: 5572\n"
          ]
        }
      ],
      "source": [
        "import glob # El modulo glob permite buscar todos los pathnames que machean con un patrón espécifico de acuerdo a las reglas de la shell de UNIX\n",
        "import json\n",
        "\n",
        "# Busca los archivos json en el directorio jsons-spam\n",
        "file_path = glob.glob(\"/content/jsons-spam/*.json\")\n",
        "X = []\n",
        "y = []\n",
        "\n",
        "# Lee cada archivo y carga la información en las listas X e y\n",
        "for file in file_path:\n",
        "    with open(file, 'r') as j:\n",
        "      json_data = json.load(j) # Carga el json\n",
        "    X.append(json_data['v2'])\n",
        "    y.append(json_data['v1'])\n",
        "\n",
        "print(f\"Cantidad de corpus: {len(X)}\")\n",
        "print(f\"Cantidad de labels: {len(y)}\")"
      ]
    },
    {
      "cell_type": "markdown",
      "metadata": {
        "id": "anMPHh3CM_rS"
      },
      "source": [
        "### Pasos\n",
        "\n",
        "1. Tokenización: Separa el texto en palabras individuales, permitiendo su análisis estadístico o lingüístico posterior de forma estructurada.\n",
        "\n",
        "2. Eliminación de stop-words: Elimina palabras frecuentes sin significado útil, como \"el\", \"de\", \"y\", que no aportan al análisis del contenido.\n",
        "\n",
        "3. Stemming: Reduce palabras a su raíz común, agrupando variantes como \"corriendo\", \"corre\", \"corrió\" en una sola forma base.\n",
        "\n",
        "4. Filtrado por mínima frecuencia: Elimina términos raros que aparecen en pocos documentos y que generalmente no son relevantes para el análisis general.\n",
        "\n",
        "5. Transformación TF-IDF: Se calcula el peso de cada término en el corpus con TfidfTransformer, priorizando términos relevantes y penalizando los más comunes."
      ]
    },
    {
      "cell_type": "code",
      "execution_count": null,
      "metadata": {
        "id": "LOcsETg3jsgf"
      },
      "outputs": [],
      "source": [
        "from sklearn.feature_extraction.text import CountVectorizer, TfidfTransformer\n",
        "from sklearn.pipeline import Pipeline\n",
        "from nltk.stem import PorterStemmer\n",
        "\n",
        "# Inicializamos el stemmer\n",
        "stemmer = PorterStemmer()\n",
        "\n",
        "# Base analyzer con stopwords en inglés\n",
        "base_analyzer = CountVectorizer(stop_words='english').build_analyzer()\n",
        "\n",
        "# Función de análisis personalizada\n",
        "def stemmed_words(doc):\n",
        "    return (stemmer.stem(w) for w in base_analyzer(doc))\n",
        "\n",
        "# Pipeline de preprocesamiento\n",
        "text_preprocessing_pipeline = Pipeline([\n",
        "    ('vect', CountVectorizer(analyzer=stemmed_words, min_df=2)),\n",
        "    ('tfidf', TfidfTransformer())\n",
        "])"
      ]
    },
    {
      "cell_type": "markdown",
      "metadata": {
        "id": "1I-izEnH4IY2"
      },
      "source": [
        "### Prueba del preprocesamiento\n",
        "\n",
        "Como parte del proceso de exploración y evaluación del preprocesamiento de texto, se analizaron tres métricas fundamentales derivadas del uso de un vectorizador con stemming y eliminación de stopwords: vocabulario total (vocab), número total de palabras (words) y cantidad de hapax legomena (hapax). A continuación se detallan los resultados obtenidos:"
      ]
    },
    {
      "cell_type": "code",
      "execution_count": null,
      "metadata": {
        "colab": {
          "base_uri": "https://localhost:8080/",
          "height": 556
        },
        "id": "Ur3YBmuq1IbJ",
        "outputId": "b7cf3208-be65-4dbb-ab84-2128f1799247"
      },
      "outputs": [
        {
          "data": {
            "image/png": "[encoded data removed]",
            "text/plain": [
              "<Figure size 800x550 with 1 Axes>"
            ]
          },
          "metadata": {},
          "output_type": "display_data"
        },
        {
          "data": {
            "text/plain": [
              "<Axes: title={'center': 'Frequency Distribution of Top 50 tokens'}>"
            ]
          },
          "execution_count": 4,
          "metadata": {},
          "output_type": "execute_result"
        }
      ],
      "source": [
        "from yellowbrick.text import FreqDistVisualizer\n",
        "import numpy as np\n",
        "\n",
        "# 4. Ajustamos pipeline y obtenemos solo la etapa de CountVectorizer\n",
        "text_preprocessing_pipeline.fit(X)\n",
        "\n",
        "# Extraemos la etapa de vect\n",
        "vect = text_preprocessing_pipeline.named_steps['vect']\n",
        "X_counts = vect.transform(X)\n",
        "\n",
        "# 5. Visualización de frecuencias\n",
        "features = vect.get_feature_names_out()\n",
        "visualizer = FreqDistVisualizer(features=features, orient='v')\n",
        "visualizer.fit(X_counts)\n",
        "visualizer.show()"
      ]
    },
    {
      "cell_type": "markdown",
      "metadata": {
        "id": "sSM8SAIA4JGV"
      },
      "source": [
        "#### Resultado\n",
        "\n",
        "Los resultados obtenidos fueron los siguientes:\n",
        "\n",
        "- *Vocabulario total (vocab):* El vocabulario total fue de 3.499 palabras únicas tras aplicar stopwords y stemming. Representa la cantidad de términos distintos considerados relevantes para el modelo de análisis de texto.\n",
        "- *Número total de palabras (words):* Se contabilizaron 41.773 palabras en total, incluyendo repeticiones. Esta cifra refleja la densidad léxica del corpus y permite dimensionar la cantidad de texto efectivamente procesado por el vectorizador.\n",
        "- Hapax legomena (hapax): El valor de hapax fue 0, ya que se utilizó `min_df=2`. Esto significa que se excluyeron todas las palabras que aparecen solo una vez, reduciendo ruido y términos poco informativos."
      ]
    },
    {
      "cell_type": "markdown",
      "metadata": {
        "id": "UBhfWYjlLqZY"
      },
      "source": [
        "## Consigna: D\n",
        "\n",
        "*Obtener dos clasificadores utilizando la librería Scikit learn. Para ello elegir 2 técnicas de clasificación, configurar los clasificadores, y ejecutar los algoritmos. Justificar las decisiones tomadas.*"
      ]
    },
    {
      "cell_type": "markdown",
      "metadata": {
        "id": "EHUBAVRzRZrM"
      },
      "source": [
        "Se utilizó una partición estratificada para asegurar que la proporción de cada clase en el conjunto de entrenamiento y test sea representativa del dataset original. Esto es especialmente importante en problemas de clasificación para evitar sesgos y garantizar que el modelo aprenda y se evalúe correctamente sobre todas las clases presentes, manteniendo la distribución balanceada de spams en ambos subconjuntos. Se eligió un test_size=0.2 para reservar el 20% del dataset como conjunto de prueba, lo cual es adecuado cuando se dispone de una cantidad limitada de muestras."
      ]
    },
    {
      "cell_type": "code",
      "execution_count": null,
      "metadata": {
        "id": "TeGGrcYLN2zI"
      },
      "outputs": [],
      "source": [
        "from sklearn.model_selection import train_test_split\n",
        "from sklearn.pipeline import make_pipeline\n",
        "from sklearn.model_selection import cross_validate\n",
        "\n",
        "X_train, X_test, y_train, y_test = train_test_split(X, y, test_size=0.2, stratify=y, random_state=42)"
      ]
    },
    {
      "cell_type": "markdown",
      "metadata": {
        "id": "QE0M2OxnMXyZ"
      },
      "source": [
        "### SVM\n",
        "\n",
        "SVM funciona muy bien con alta dimensionalidad, como ocurre con datos TF-IDF donde hay miles de características (palabras). Con el kernel lineal suele obtener muy buen rendimiento en problemas de clasificación de texto (como spam detection, análisis de sentimiento, etc)."
      ]
    },
    {
      "cell_type": "code",
      "execution_count": null,
      "metadata": {
        "colab": {
          "base_uri": "https://localhost:8080/"
        },
        "id": "foj1_PLFNFBN",
        "outputId": "282fd32c-e15f-43a9-b41b-0424e843e2db"
      },
      "outputs": [
        {
          "name": "stdout",
          "output_type": "stream",
          "text": [
            "Accuracy: 0.98\n",
            "Precision macro: 0.99\n",
            "Recall macro: 0.94\n",
            "Precision weighted: 0.98\n",
            "Recall weighted: 0.98\n"
          ]
        }
      ],
      "source": [
        "from sklearn.svm import SVC\n",
        "\n",
        "# Crea el pipeline\n",
        "pipe = make_pipeline(\n",
        "     text_preprocessing_pipeline,\n",
        "     SVC()\n",
        " )\n",
        "\n",
        "# Evalua el modelo con distintas métricas\n",
        "scoring = ['accuracy', 'precision_macro', 'recall_macro', 'precision_weighted', 'recall_weighted']\n",
        "scores_svc = cross_validate(pipe, X_train, y_train, scoring=scoring, cv=5)\n",
        "\n",
        "print(f\"Accuracy: {scores_svc['test_accuracy'].mean():.2f}\")\n",
        "print(f\"Precision macro: {scores_svc['test_precision_macro'].mean():.2f}\")\n",
        "print(f\"Recall macro: {scores_svc['test_recall_macro'].mean():.2f}\")\n",
        "print(f\"Precision weighted: {scores_svc['test_precision_weighted'].mean():.2f}\")\n",
        "print(f\"Recall weighted: {scores_svc['test_recall_weighted'].mean():.2f}\")\n"
      ]
    },
    {
      "cell_type": "markdown",
      "metadata": {
        "id": "1RC6L_c1MiyW"
      },
      "source": [
        "### Naive Bayes\n",
        "\n",
        "Es muy rápido y eficiente para datos textuales. A pesar de su simplicidad y suposiciones fuertes (independencia entre palabras), tiene un rendimiento sorprendentemente bueno con TF-IDF o conteo de palabras."
      ]
    },
    {
      "cell_type": "code",
      "execution_count": null,
      "metadata": {
        "colab": {
          "base_uri": "https://localhost:8080/"
        },
        "id": "eKkm3EkOLpm6",
        "outputId": "a94a7f44-a7ce-4388-be13-5df826655bc6"
      },
      "outputs": [
        {
          "name": "stdout",
          "output_type": "stream",
          "text": [
            "Accuracy: 0.98\n",
            "Precision macro: 0.99\n",
            "Recall macro: 0.91\n",
            "Precision weighted: 0.98\n",
            "Recall weighted: 0.98\n"
          ]
        }
      ],
      "source": [
        "from sklearn.naive_bayes import MultinomialNB\n",
        "\n",
        "# Crea el pipeline\n",
        "pipe = make_pipeline(\n",
        "     text_preprocessing_pipeline,\n",
        "     MultinomialNB()\n",
        " )\n",
        "\n",
        "# Evalua el modelo con distintas métricas\n",
        "scoring = ['accuracy', 'precision_macro', 'recall_macro', 'precision_weighted', 'recall_weighted']\n",
        "scores_nb = cross_validate(pipe, X_train, y_train, scoring=scoring, cv=5)\n",
        "\n",
        "print(f\"Accuracy: {scores_nb['test_accuracy'].mean():.2f}\")\n",
        "print(f\"Precision macro: {scores_nb['test_precision_macro'].mean():.2f}\")\n",
        "print(f\"Recall macro: {scores_nb['test_recall_macro'].mean():.2f}\")\n",
        "print(f\"Precision weighted: {scores_nb['test_precision_weighted'].mean():.2f}\")\n",
        "print(f\"Recall weighted: {scores_nb['test_recall_weighted'].mean():.2f}\")\n"
      ]
    },
    {
      "cell_type": "markdown",
      "metadata": {
        "id": "tNPSFpb5WZB3"
      },
      "source": [
        "No se utilizaron los algoritmos KNN ni Decision Tree debido a que ambos presentan limitaciones importantes en contextos de clasificación de texto con representaciones TF-IDF. KNN, al basarse en distancias en espacios vectoriales, se ve fuertemente afectado por la alta dimensionalidad del texto, volviéndose computacionalmente costoso y menos preciso. Por su parte, Decision Tree tiende a sobreajustarse cuando se enfrenta a un gran número de características, como ocurre en modelos de texto, lo que compromete su capacidad de generalización."
      ]
    },
    {
      "cell_type": "markdown",
      "metadata": {
        "id": "pTAefllYafr3"
      },
      "source": [
        "#### Gráficos Comparativos"
      ]
    },
    {
      "cell_type": "code",
      "execution_count": null,
      "metadata": {
        "colab": {
          "base_uri": "https://localhost:8080/",
          "height": 600
        },
        "id": "OveW0UvhdD-C",
        "outputId": "3614bf76-5e56-491b-b66c-b535651a960a"
      },
      "outputs": [
        {
          "data": {
            "image/png": "[encoded data removed]",
            "text/plain": [
              "<Figure size 1000x600 with 1 Axes>"
            ]
          },
          "metadata": {},
          "output_type": "display_data"
        }
      ],
      "source": [
        "import matplotlib.pyplot as plt\n",
        "\n",
        "# Modelos\n",
        "modelos = ['Naive Bayes', 'SVM']\n",
        "\n",
        "# Métricas\n",
        "accuracy = [scores_nb['test_accuracy'].mean(), scores_svc['test_accuracy'].mean()]\n",
        "precision_m = [scores_nb['test_precision_macro'].mean(), scores_svc['test_precision_macro'].mean()]\n",
        "recall_m = [scores_nb['test_recall_macro'].mean(), scores_svc['test_recall_macro'].mean()]\n",
        "precision_w = [scores_nb['test_precision_weighted'].mean(), scores_svc['test_precision_weighted'].mean()]\n",
        "recall_w = [scores_nb['test_recall_weighted'].mean(), scores_svc['test_recall_weighted'].mean()]\n",
        "\n",
        "# Posiciones\n",
        "x = np.arange(len(modelos))\n",
        "width = 0.15  # ancho de las barras\n",
        "\n",
        "fig, ax = plt.subplots(figsize=(10, 6))\n",
        "ax.bar(x - 2*width, accuracy, width, label='Accuracy')\n",
        "ax.bar(x - width, precision_m, width, label='Precision Macro')\n",
        "ax.bar(x, recall_m, width, label='Recall Macro')\n",
        "ax.bar(x + width, precision_w, width, label='Precision Weighted')\n",
        "ax.bar(x + 2*width, recall_w, width, label='Recall Weighted')\n",
        "\n",
        "# Etiquetas y título\n",
        "ax.set_ylabel('Valor')\n",
        "ax.set_title('Métricas por Algoritmo de Clasificación')\n",
        "ax.set_xticks(x)\n",
        "ax.set_xticklabels(modelos)\n",
        "ax.legend(loc='lower right')\n",
        "\n",
        "plt.ylim(0.9, 1)  # Puedes ajustarlo según tus datos\n",
        "plt.grid(axis='y', linestyle='--', alpha=0.7)\n",
        "plt.tight_layout()\n",
        "plt.show()"
      ]
    },
    {
      "cell_type": "markdown",
      "metadata": {
        "id": "08zEdwsBTrXk"
      },
      "source": [
        "## Consigna E\n",
        "\n",
        "*Evaluar los dos clasificadores y compararlos, indicando cual de los dos recomendaría.*"
      ]
    },
    {
      "cell_type": "markdown",
      "metadata": {
        "id": "i6b4Oj17UgLz"
      },
      "source": [
        "Ambos modelos tienen un Accuracy igual (0.98) y Precision macro y weighted muy similares (0.99 y 0.98). Sin embargo, hay una diferencia clave, SVM tiene un Recall macro de 0.94, mientras que Naive Bayes tiene 0.91. SVM es ligeramente mejor debido a su mayor recall macro, lo cual indica que generaliza mejor en todas las clases, especialmente en aquellas con menos ejemplos o más complejas."
      ]
    },
    {
      "cell_type": "markdown",
      "metadata": {
        "id": "wiOQbWUvZ6-R"
      },
      "source": [
        "#### Entrenamiento completo con SVM"
      ]
    },
    {
      "cell_type": "code",
      "execution_count": null,
      "metadata": {
        "id": "N6ebLD-rY1ax"
      },
      "outputs": [],
      "source": [
        "from sklearn.metrics import accuracy_score, precision_score, recall_score, f1_score\n",
        "\n",
        "# Entrenar modelo final con todo el set de entrenamiento\n",
        "pipe = make_pipeline(\n",
        "     text_preprocessing_pipeline,\n",
        "     SVC()\n",
        " )\n",
        "\n",
        "pipe.fit(X_train, y_train)\n",
        "\n",
        "# Evaluar en el set de prueba\n",
        "y_pred_svm = pipe.predict(X_test)\n",
        "\n",
        "# Métricas\n",
        "def obtener_metricas(y_true, y_pred):\n",
        "    return {\n",
        "        \"accuracy\": accuracy_score(y_true, y_pred),\n",
        "        \"precision_macro\": precision_score(y_true, y_pred, average='macro'),\n",
        "        \"recall_macro\": recall_score(y_true, y_pred, average='macro'),\n",
        "        \"f1_macro\": f1_score(y_true, y_pred, average='macro')\n",
        "    }\n",
        "\n",
        "metricas_svm = obtener_metricas(y_test, y_pred_svm)\n",
        "\n",
        "print(\"Métricas para SVM:\")\n",
        "print(metricas_svm)"
      ]
    },
    {
      "cell_type": "markdown",
      "metadata": {
        "id": "L2h44FXfUEFU"
      },
      "source": [
        "## Consigna F\n",
        "\n",
        "*Explicar un ejemplo de cómo los clasificadores obtenidos pueden ser usados en el futuro en una aplicación real.*"
      ]
    },
    {
      "cell_type": "markdown",
      "metadata": {
        "id": "JP7OE9sTUjQk"
      },
      "source": [
        "Un posible dominio de uso del clasificador es en plataformas de mensajería o foros en línea, donde puede identificar y filtrar mensajes no deseados (spam), como publicidad automatizada o enlaces repetitivos enviados por bots. Este sistema ayuda a mantener conversaciones limpias y relevantes, mejorando la experiencia del usuario. También puede ser útil en aplicaciones como Discord, Telegram o foros educativos, marcando mensajes sospechosos para revisión o bloqueándolos automáticamente antes de que se publiquen."
      ]
    }
  ],
  "metadata": {
    "colab": {
      "provenance": []
    },
    "kernelspec": {
      "display_name": "Python 3",
      "name": "python3"
    },
    "language_info": {
      "name": "python"
    }
  },
  "nbformat": 4,
  "nbformat_minor": 0
}
